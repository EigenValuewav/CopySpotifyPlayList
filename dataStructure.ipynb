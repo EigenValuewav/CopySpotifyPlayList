{
  "nbformat": 4,
  "nbformat_minor": 0,
  "metadata": {
    "colab": {
      "provenance": [],
      "collapsed_sections": [],
      "authorship_tag": "ABX9TyOSptGic9+XUVVrlsDjJ2BW",
      "include_colab_link": true
    },
    "kernelspec": {
      "name": "python3",
      "display_name": "Python 3"
    },
    "language_info": {
      "name": "python"
    }
  },
  "cells": [
    {
      "cell_type": "markdown",
      "metadata": {
        "id": "view-in-github",
        "colab_type": "text"
      },
      "source": [
        "<a href=\"https://colab.research.google.com/github/EigenValuewav/CopySpotifyPlayList/blob/main/dataStructure.ipynb\" target=\"_parent\"><img src=\"https://colab.research.google.com/assets/colab-badge.svg\" alt=\"Open In Colab\"/></a>"
      ]
    },
    {
      "cell_type": "code",
      "execution_count": 1,
      "metadata": {
        "id": "HoeDRaIYIK3t",
        "colab": {
          "base_uri": "https://localhost:8080/"
        },
        "outputId": "765aa64c-84dc-4978-a592-a2a47cdc9e70"
      },
      "outputs": [
        {
          "output_type": "stream",
          "name": "stdout",
          "text": [
            "11\n",
            "11\n"
          ]
        }
      ],
      "source": [
        "# lambda func.\n",
        "# 일시적으로 사용할 수 있는 익명의 함수\n",
        "def fu(x):\n",
        "  return x+8\n",
        "print(fu(3))\n",
        "\n",
        "res = lambda x: x+8;\n",
        "print(res(3))"
      ]
    },
    {
      "cell_type": "code",
      "source": [
        "# OOP\n",
        "# class: 속성과 행위를 변수와 메소드로 정의한 논리적 개념 (허상)\n",
        "#  Instance: Class의 정의를 기반으로 실제 메모리에 할당된 실체 (실상)\n",
        "#  int--> 논리   a = 3 --> 실체 "
      ],
      "metadata": {
        "id": "aNHjY3dZIStt"
      },
      "execution_count": null,
      "outputs": []
    },
    {
      "cell_type": "code",
      "source": [
        "from scipy import signal\n",
        "import matplotlib.pyplot as plt\n",
        "import numpy as np\n",
        "t = np.linspace(0, 1, 500)\n",
        "plt.plot(t, signal.sawtooth(2 * np.pi * t))\n"
      ],
      "metadata": {
        "colab": {
          "base_uri": "https://localhost:8080/",
          "height": 283
        },
        "id": "9XeYGMcMKooK",
        "outputId": "de0ff39a-c0e2-48c6-df5d-536d0de73ccc"
      },
      "execution_count": null,
      "outputs": [
        {
          "output_type": "execute_result",
          "data": {
            "text/plain": [
              "[<matplotlib.lines.Line2D at 0x7fc7322afb50>]"
            ]
          },
          "metadata": {},
          "execution_count": 15
        },
        {
          "output_type": "display_data",
          "data": {
            "text/plain": [
              "<Figure size 432x288 with 1 Axes>"
            ],
            "image/png": "[encoded data removed]"
          },
          "metadata": {
            "needs_background": "light"
          }
        }
      ]
    },
    {
      "cell_type": "code",
      "source": [
        "plt.plot(t, signal.chirp(t,f0 = 1,f1 = 1,t1 = 10, method = 'linear'))"
      ],
      "metadata": {
        "colab": {
          "base_uri": "https://localhost:8080/",
          "height": 283
        },
        "id": "cYkUpeyYN3Cf",
        "outputId": "a0099108-c93e-4d89-b763-0fbaf62484de"
      },
      "execution_count": null,
      "outputs": [
        {
          "output_type": "execute_result",
          "data": {
            "text/plain": [
              "[<matplotlib.lines.Line2D at 0x7fc73299bf90>]"
            ]
          },
          "metadata": {},
          "execution_count": 13
        },
        {
          "output_type": "display_data",
          "data": {
            "text/plain": [
              "<Figure size 432x288 with 1 Axes>"
            ],
            "image/png": "[encoded data removed]"
          },
          "metadata": {
            "needs_background": "light"
          }
        }
      ]
    },
    {
      "cell_type": "code",
      "source": [
        "class ableton():\n",
        "  from scipy import signal\n",
        "  import matplotlib.pyplot as plt\n",
        "  import numpy as np\n",
        "  userEnroll = \"none\"\n",
        "  def __init__(self):\n",
        "    print(\"start\")\n",
        "    self.sample = \"inner\"\n",
        "    self.version = \"ver.10.0.5\"\n",
        "    self.vst = \"inner\"\n",
        "    # 주소값 \n",
        "    print(id(self))\n",
        "    \n",
        "  def OSC(waveform, pitch):\n",
        "    def saw(pitch):\n",
        "      t = np.linspace(0, 1, 500)\n",
        "      plt.plot(t, signal.sawtooth(2 * np.pi* pitch * t))\n",
        "    def sine(pitch):\n",
        "      t = np.linspace(0, 1, 500)\n",
        "      plt.plot(t, signal.chirp(t,f0 = pitch,f1 = pitch,t1 = 10, method = 'linear'))\n",
        "      \n",
        "    if waveform == \"saw\":\n",
        "      saw(pitch)\n",
        "    elif waveform == \"sine\":\n",
        "      sine(pitch)\n",
        "    else:\n",
        "      print(\"undefine\")\n",
        "\n",
        "  def __del__(self):\n",
        "    print(\"end\")\n"
      ],
      "metadata": {
        "id": "kufarv_tIkX5"
      },
      "execution_count": null,
      "outputs": []
    },
    {
      "cell_type": "code",
      "source": [
        "a = ableton() #ableton()을 선언을 안하면 init, del이 실행 x 밑에 있는 ableton.OSC()는 걍 꺼내 쓰는 것일 뿐\n",
        "b = ableton()\n",
        "print(a.sample)\n",
        "print(a.version)\n",
        "print(a.vst)\n",
        "ableton.OSC('sine', 2)\n",
        "ableton.OSC('saw', 2)\n",
        "a.userEnroll = \"EigenValue\"\n",
        "print(a.userEnroll) #  얘는 변했는데 userEnroll = EigenValue\n",
        "print(b.userEnroll) # 얘는 그대로 userEnroll = none\n",
        "print(id(a)) #내부에서 self 돌렸던거하고 밖에서 a = ableton() 돌린거하고 주소값이 같음\n",
        "print(id(b))\n"
      ],
      "metadata": {
        "colab": {
          "base_uri": "https://localhost:8080/",
          "height": 501
        },
        "id": "qssOJCt-PIsJ",
        "outputId": "84ca72b0-b426-4ec9-fc5f-137189d2fa4d"
      },
      "execution_count": null,
      "outputs": [
        {
          "output_type": "stream",
          "name": "stdout",
          "text": [
            "start\n",
            "140493383508560\n",
            "start\n",
            "140493383510608\n",
            "inner\n",
            "ver.10.0.5\n",
            "inner\n",
            "EigenValue\n",
            "none\n",
            "140493383508560\n",
            "140493383510608\n",
            "end\n",
            "end\n"
          ]
        },
        {
          "output_type": "display_data",
          "data": {
            "text/plain": [
              "<Figure size 432x288 with 1 Axes>"
            ],
            "image/png": "[encoded data removed]"
          },
          "metadata": {
            "needs_background": "light"
          }
        }
      ]
    },
    {
      "cell_type": "code",
      "source": [
        "#  캡슐화: 속성과 행위를 목적에 적합하게 묶어 독립된 단위로 구성\n",
        "# 정보은닉: 속성과 행위에 대한 접근 제한\n",
        "# 결합도가 낮으면 좋고 (기능이 다른 기능에 종속, 의존되는 구조)\n",
        "# 응집도가 높으면 좋다. (내부요소의 관련도)\n",
        "\n",
        "def add(a, b):\n",
        "  return a+b\n",
        "\n",
        "def print_add():\n",
        "  print(add(3, 5))\n",
        "\n",
        "def condition_result(flag):\n",
        "  if(flag):\n",
        "    return \"A\"\n",
        "  else:\n",
        "    return \"B\"\n",
        "\n",
        "def print_grade():\n",
        "  print(condition_result(True))\n",
        "\n",
        "print_grade()\n",
        "# 독립적인 목적으로 두 함수를 사용하기 힘들어진다.\n",
        "#---------------------\n",
        "\n",
        "\n",
        "def print_grade1():\n",
        "  flag = True\n",
        "  if(flag):\n",
        "    return get_grade_a()\n",
        "  else:\n",
        "    return get_grade_b() \n",
        "    # 리턴 안하면 값 안나옴 왜냐하면 함수를 콜 해서 리턴하는거는 아래에 있는 get_grade_b()에서 끝났기 때문\n",
        "\n",
        "def get_grade_a():\n",
        "  return 'A'\n",
        "def get_grade_b():\n",
        "  return 'B'\n",
        "\n",
        "print_grade1()"
      ],
      "metadata": {
        "colab": {
          "base_uri": "https://localhost:8080/",
          "height": 54
        },
        "id": "HUUrju6YfAWJ",
        "outputId": "77293d12-14cd-4405-c058-567770c61a36"
      },
      "execution_count": null,
      "outputs": [
        {
          "output_type": "stream",
          "name": "stdout",
          "text": [
            "A\n"
          ]
        },
        {
          "output_type": "execute_result",
          "data": {
            "text/plain": [
              "'A'"
            ],
            "application/vnd.google.colaboratory.intrinsic+json": {
              "type": "string"
            }
          },
          "metadata": {},
          "execution_count": 25
        }
      ]
    },
    {
      "cell_type": "code",
      "source": [
        "class test001:\n",
        "  def __Init__(self, private):\n",
        "    print('start')\n",
        "    #self.name = public # 개나소나 사용 가능\n",
        "    #self._nameProtected = protected # 상속 클래스 및 내부에서 사용 가능\n",
        "    self.__namePrivate = private # 클래스 내부에서만 사용 가능\n",
        "  def security(self, change):\n",
        "    print(self.__namePrivate, 'is activate', change)\n",
        "    self.__namePrivate = change\n",
        "  def __del__(self):\n",
        "    print('end')\n",
        "\n",
        "sec = test001()\n",
        "test001.__namePrivate = 'CheeseBurger'\n",
        "print(sec.__namePrivate)"
      ],
      "metadata": {
        "colab": {
          "base_uri": "https://localhost:8080/"
        },
        "id": "yv3xUdDohIWd",
        "outputId": "d4f5434d-8db8-4c01-8c74-6a371278275d"
      },
      "execution_count": null,
      "outputs": [
        {
          "output_type": "stream",
          "name": "stdout",
          "text": [
            "CheeseBurger\n",
            "end\n"
          ]
        }
      ]
    },
    {
      "cell_type": "code",
      "source": [
        "class Computer:\n",
        "  def __init__(self, ram, ssd, hdd, cpu, name, color, category):\n",
        "    self.__ram = ram\n",
        "    self.__ssd = ssd\n",
        "    self.hdd = hdd\n",
        "    self.cpu = cpu\n",
        "    self.name = name\n",
        "    self.color = color\n",
        "    self.category = category\n",
        "\n",
        "  def connect_web(self, url):\n",
        "    print(url, \"주소연결완료\")\n",
        "  def sw_exe(self, sw):\n",
        "    print(\"프로그램 실행\")\n",
        "  \n",
        "  @property\n",
        "  def ram(self):\n",
        "    return self.__ram\n",
        "\n",
        "  @ram.setter\n",
        "  def ram(self, ram):\n",
        "    print(self.__ram, \"가\", ram, '로 변경')\n",
        "    self.__ram = ram\n",
        "\n",
        "  @property\n",
        "  def ssd(self):\n",
        "    return self.__ssd\n",
        "  \n",
        "  @ssd.setter\n",
        "  def ssd(self, ssd):\n",
        "    print(self.__ssd, \"가\", ssd, '로 변경')\n",
        "    self.__ssd = ssd\n",
        "  def __del__(self):\n",
        "    print('종료')\n",
        "\n"
      ],
      "metadata": {
        "id": "Q-nbH0-8sFaw"
      },
      "execution_count": null,
      "outputs": []
    },
    {
      "cell_type": "code",
      "source": [
        "  imac = Computer('64', '2T', '3T', 'i7', 'imac20', 'silver', 'desktop')\n",
        "  imac.ram = '16G'\n",
        "  print('imac.ram.getter =', imac.ram)\n",
        "  imac.ssd = '10T'\n",
        "  print('imac.ssd.getter', imac.ssd)"
      ],
      "metadata": {
        "colab": {
          "base_uri": "https://localhost:8080/"
        },
        "id": "8Q2ebIHdvrnK",
        "outputId": "48c48ea0-e534-44a0-8029-fa8d07a2ed0f"
      },
      "execution_count": null,
      "outputs": [
        {
          "output_type": "stream",
          "name": "stdout",
          "text": [
            "64 가 16G 로 변경\n",
            "imac.ram.getter = 16G\n",
            "2T 가 10T 로 변경\n",
            "imac.ssd.getter 10T\n",
            "종료\n"
          ]
        }
      ]
    },
    {
      "cell_type": "code",
      "source": [
        "# 상속성: 자식 클래스가 상속받는 것\n",
        "\n",
        "class Person:\n",
        "  def thinking(self):\n",
        "    print('생각중')\n",
        "class Student(Person):\n",
        "  def study(self):\n",
        "    print(\"공부중입니다.\")\n",
        "class Prof(Person):\n",
        "  def lecture(self):\n",
        "    print('강의중입니다.')\n",
        "\n",
        "person_p = Person()\n",
        "student_s = Student()\n",
        "prof_p = Prof()\n",
        "\n",
        "\n",
        "# 상속 받는 부분\n",
        "person_p.thinking()\n",
        "student_s.thinking()\n",
        "prof_p.thinking()\n",
        "print('====')\n",
        "# 자식의 행위\n",
        "student_s.study()\n",
        "prof_p.lecture()\n"
      ],
      "metadata": {
        "colab": {
          "base_uri": "https://localhost:8080/"
        },
        "id": "S_B2e8N8v1wP",
        "outputId": "f37ab761-9fd6-45e9-e8e6-c235d8ac3fd3"
      },
      "execution_count": null,
      "outputs": [
        {
          "output_type": "stream",
          "name": "stdout",
          "text": [
            "생각중\n",
            "생각중\n",
            "생각중\n",
            "====\n",
            "공부중입니다.\n",
            "강의중입니다.\n"
          ]
        }
      ]
    },
    {
      "cell_type": "code",
      "source": [
        "# 1:1 상속\n",
        "# n:1 상속(다중상속)\n",
        "# 1:n 상속\n",
        "# 다형성: 같은 메소드 이름으로 다른 동작을 하는 것 --> 부모 자식 관계에서도 자식이 독고다이로 독자행위 가능 == method override\n"
      ],
      "metadata": {
        "id": "NCeY5EjtwByb"
      },
      "execution_count": null,
      "outputs": []
    },
    {
      "cell_type": "code",
      "source": [
        "# 파이썬 자료구조\n",
        "# 리터럴: 값 자체를 의미\n",
        "# 리스트 튜플 딕셔너리\n",
        "lst1 = [1, 2, 3 ,4, 5]\n",
        "l1 = []\n",
        "l2 = [1, 't', [1], ['t']]\n",
        "l3 = [[1, 2], [1, 2, 3, 4]]\n",
        "for i in l3:\n",
        "  print(i)\n",
        "  for j in i:\n",
        "    print(j)\n",
        "\n",
        "print('===')\n",
        "print(l3[0][1])\n",
        "\n",
        "\n",
        "# 튜플 값변경 불가\n",
        "tup1 = (1, 2, 3, 4, 5)\n",
        "\n",
        "# 딕셔너리 (순서가 없는 집합)\n",
        "dic1 = {\"a\":1, \"b\":2}\n",
        "\n",
        "# 집합 set (순서가 없고 unique를 갖는 집합)\n",
        "\n",
        "set1 = {1, 2, 3, 4, 5}\n",
        "set2 = {1, 1, 1, 2, 3, 4, 4, 4, 5, 5,} #중복을 조져버린다. \n",
        "print(set2)\n",
        "\n",
        "# set의 원소제거: remove(), disard() --> remove는 없는 값을 없애면 오료 discard는 안그럼\n",
        "\n"
      ],
      "metadata": {
        "colab": {
          "base_uri": "https://localhost:8080/"
        },
        "id": "B2-apIcJzGbw",
        "outputId": "25d230c8-fd9d-43d2-ac05-6bd748161e51"
      },
      "execution_count": null,
      "outputs": [
        {
          "output_type": "stream",
          "name": "stdout",
          "text": [
            "[1, 2]\n",
            "1\n",
            "2\n",
            "[1, 2, 3, 4]\n",
            "1\n",
            "2\n",
            "3\n",
            "4\n",
            "===\n",
            "2\n",
            "{1, 2, 3, 4, 5}\n"
          ]
        }
      ]
    },
    {
      "cell_type": "code",
      "source": [],
      "metadata": {
        "id": "tRD4OBF305rY"
      },
      "execution_count": null,
      "outputs": []
    }
  ]
}